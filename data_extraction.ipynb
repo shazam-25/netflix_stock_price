{
  "nbformat": 4,
  "nbformat_minor": 0,
  "metadata": {
    "colab": {
      "provenance": [],
      "authorship_tag": "ABX9TyMFtnuMyi6Osq6EFsc0ZYEn",
      "include_colab_link": true
    },
    "kernelspec": {
      "name": "python3",
      "display_name": "Python 3"
    },
    "language_info": {
      "name": "python"
    }
  },
  "cells": [
    {
      "cell_type": "markdown",
      "metadata": {
        "id": "view-in-github",
        "colab_type": "text"
      },
      "source": [
        "<a href=\"https://colab.research.google.com/github/shazam-25/netflix_stock_price/blob/main/data_extraction.ipynb\" target=\"_parent\"><img src=\"https://colab.research.google.com/assets/colab-badge.svg\" alt=\"Open In Colab\"/></a>"
      ]
    },
    {
      "cell_type": "markdown",
      "source": [
        "Libraries"
      ],
      "metadata": {
        "id": "274NLcesUBZc"
      }
    },
    {
      "cell_type": "code",
      "source": [
        "import os\n",
        "import kagglehub\n",
        "import pandas as pd"
      ],
      "metadata": {
        "id": "C3oUAvdPUDpM"
      },
      "execution_count": 1,
      "outputs": []
    },
    {
      "cell_type": "markdown",
      "source": [
        "Extract Data"
      ],
      "metadata": {
        "id": "eEkGqxo8UER5"
      }
    },
    {
      "cell_type": "code",
      "execution_count": 2,
      "metadata": {
        "id": "qEAenEg9Spo4"
      },
      "outputs": [],
      "source": [
        "def Path(kaggle_path):\n",
        "  # Download latest version of dataset from Kaggle\n",
        "  path = kagglehub.dataset_download(kaggle_path)\n",
        "  # Print directory path\n",
        "  print(\"Path to dataset files:\", path)\n",
        "  return path"
      ]
    },
    {
      "cell_type": "code",
      "source": [
        "def extract_file(path):\n",
        "  # List contents of the directory\n",
        "  try:\n",
        "    files = []\n",
        "    if os.path.exists(path):\n",
        "      for file in os.listdir(path):\n",
        "        if file.endswith('.csv'):\n",
        "          files.append(os.path.join(path, file))\n",
        "      print(f'Contents of directory: {files}')\n",
        "      return files\n",
        "    else:\n",
        "      print('Not a directory.')\n",
        "  except Exception as e:\n",
        "    print(f'Exception: {e}')"
      ],
      "metadata": {
        "id": "HL2Wd0bhUiqA"
      },
      "execution_count": 3,
      "outputs": []
    },
    {
      "cell_type": "code",
      "source": [
        "def extract_data():\n",
        "  # hardcoded\n",
        "  kaggle_path = \"adilshamim8/netflix-stock-price-history\"\n",
        "  # Get directory path\n",
        "  path = Path(kaggle_path)\n",
        "  # Get files in directory\n",
        "  files = extract_file(path)\n",
        "  # Extract data from path\n",
        "  df = pd.read_csv(files[0])\n",
        "  return df"
      ],
      "metadata": {
        "id": "r_HnB1keYUr9"
      },
      "execution_count": 4,
      "outputs": []
    },
    {
      "cell_type": "code",
      "source": [
        "def main():\n",
        "  df = extract_data()\n",
        "  print(df.head(10))"
      ],
      "metadata": {
        "id": "pJttCfo2jBdd"
      },
      "execution_count": 5,
      "outputs": []
    },
    {
      "cell_type": "code",
      "source": [
        "if __name__ == '__main__':\n",
        "  main()"
      ],
      "metadata": {
        "colab": {
          "base_uri": "https://localhost:8080/"
        },
        "id": "pRCG5ubJkTqI",
        "outputId": "9312e7d2-dbf6-49be-dcde-0da2327f32af"
      },
      "execution_count": 6,
      "outputs": [
        {
          "output_type": "stream",
          "name": "stdout",
          "text": [
            "Path to dataset files: /kaggle/input/netflix-stock-price-history\n",
            "Contents of directory: ['/kaggle/input/netflix-stock-price-history/Netflix_stock_data.csv']\n",
            "         Date     Close      High       Low      Open     Volume\n",
            "0  2002-05-23  1.196429  1.242857  1.145714  1.156429  104790000\n",
            "1  2002-05-24  1.210000  1.225000  1.197143  1.214286   11104800\n",
            "2  2002-05-28  1.157143  1.232143  1.157143  1.213571    6609400\n",
            "3  2002-05-29  1.103571  1.164286  1.085714  1.164286    6757800\n",
            "4  2002-05-30  1.071429  1.107857  1.071429  1.107857   10154200\n",
            "5  2002-05-31  1.076429  1.078571  1.071429  1.078571    8464400\n",
            "6  2002-06-03  1.128571  1.149286  1.076429  1.080000    3151400\n",
            "7  2002-06-04  1.117857  1.140000  1.110714  1.135714    3105200\n",
            "8  2002-06-05  1.147143  1.159286  1.107143  1.110714    1531600\n",
            "9  2002-06-06  1.182143  1.232143  1.148571  1.150000    2305800\n"
          ]
        }
      ]
    }
  ]
}